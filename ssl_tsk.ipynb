{
 "cells": [
  {
   "cell_type": "code",
   "execution_count": 1,
   "metadata": {},
   "outputs": [],
   "source": [
    "# Making necessary imports\n",
    "import torch\n",
    "import torch.nn as nn\n",
    "import numpy as np\n",
    "import pandas as pd\n",
    "import matplotlib.pyplot as plt\n",
    "from tqdm.auto import tqdm\n",
    "import random\n",
    "import gc\n",
    "from torch.utils.data import Dataset, DataLoader, Subset\n",
    "from sklearn.metrics import roc_auc_score, roc_curve, auc\n",
    "from sklearn.model_selection import train_test_split\n",
    "from sklearn.linear_model import LogisticRegression\n",
    "import os\n",
    "import timm\n",
    "import pickle\n",
    "import torchvision.transforms as T\n",
    "from lightly.loss import NTXentLoss\n",
    "from lightly.models.modules import SimCLRProjectionHead\n",
    "from torchlars import LARS\n",
    "import warnings\n",
    "warnings.filterwarnings(\"ignore\")"
   ]
  },
  {
   "cell_type": "code",
   "execution_count": 2,
   "metadata": {},
   "outputs": [],
   "source": [
    "dfr = pd.DataFrame"
   ]
  },
  {
   "cell_type": "code",
   "execution_count": 3,
   "metadata": {},
   "outputs": [],
   "source": [
    "# Fixing randomization seed for reproduceability \n",
    "def fix_seed(seed):\n",
    "    torch.manual_seed(seed)\n",
    "    if torch.cuda.is_available():\n",
    "        torch.cuda.manual_seed_all(seed)\n",
    "    random.seed(seed)\n",
    "    np.random.seed(seed)"
   ]
  },
  {
   "cell_type": "code",
   "execution_count": 4,
   "metadata": {},
   "outputs": [],
   "source": [
    "fix_seed(42)"
   ]
  },
  {
   "cell_type": "code",
   "execution_count": 5,
   "metadata": {},
   "outputs": [],
   "source": [
    "# Class ID to Labels Dictionary\n",
    "labels = {\n",
    "    0: \"lense\",\n",
    "    1: \"non_lense\"\n",
    "}"
   ]
  },
  {
   "cell_type": "code",
   "execution_count": 6,
   "metadata": {},
   "outputs": [],
   "source": [
    "# Defining path variable for the dataset\n",
    "data_path = \"/home/shreshthsharma/ssl/real_hst\""
   ]
  },
  {
   "cell_type": "code",
   "execution_count": 7,
   "metadata": {},
   "outputs": [],
   "source": [
    "# Storing file names in a list\n",
    "files = sorted(os.listdir(data_path))"
   ]
  },
  {
   "cell_type": "code",
   "execution_count": 8,
   "metadata": {},
   "outputs": [
    {
     "data": {
      "text/plain": [
       "215"
      ]
     },
     "execution_count": 8,
     "metadata": {},
     "output_type": "execute_result"
    }
   ],
   "source": [
    "# Calculating size of dataset\n",
    "len(files)"
   ]
  },
  {
   "cell_type": "code",
   "execution_count": 9,
   "metadata": {},
   "outputs": [
    {
     "name": "stdout",
     "output_type": "stream",
     "text": [
      "Lense Images: 152\n",
      "Non-Lense Images: 63\n"
     ]
    }
   ],
   "source": [
    "# # Checking class distribution in the dataset\n",
    "num_lense = 0\n",
    "num_non_lense = 0\n",
    "for file in files:\n",
    "    if file[:2] == \"nl\":\n",
    "        num_non_lense += 1\n",
    "    else:\n",
    "        num_lense += 1\n",
    "\n",
    "print(f\"Lense Images: {num_lense}\")\n",
    "print(f\"Non-Lense Images: {num_non_lense}\")"
   ]
  },
  {
   "cell_type": "code",
   "execution_count": 10,
   "metadata": {},
   "outputs": [
    {
     "data": {
      "text/plain": [
       "(1, 334, 334)"
      ]
     },
     "execution_count": 10,
     "metadata": {},
     "output_type": "execute_result"
    }
   ],
   "source": [
    "# Checking image shape\n",
    "arr = np.load('/home/shreshthsharma/ssl/real_hst/nl_4_hst.npy')\n",
    "arr = np.expand_dims(arr, axis=0)\n",
    "arr.shape"
   ]
  },
  {
   "cell_type": "code",
   "execution_count": 11,
   "metadata": {},
   "outputs": [
    {
     "name": "stdout",
     "output_type": "stream",
     "text": [
      "Nan Pixels in Lense Images: 33068\n",
      "Nan Pixels in Non-Lense Images: 8804\n"
     ]
    }
   ],
   "source": [
    "# Initial model training results showed NaN values\n",
    "# This might be possible due to NaN values of some pixels\n",
    "# Analyzing how many pixels are NaN class wise\n",
    "nan_lense = 0\n",
    "nan_non_lense = 0\n",
    "for file in files:\n",
    "    arr = np.load(f'/home/shreshthsharma/ssl/real_hst/{file}')\n",
    "    nan_pixels = np.sum(np.isnan(arr))\n",
    "    if file[:2] == \"nl\":\n",
    "        nan_non_lense += nan_pixels\n",
    "    else:\n",
    "        nan_lense += nan_pixels\n",
    "\n",
    "print(f\"Nan Pixels in Lense Images: {nan_lense}\")\n",
    "print(f\"Nan Pixels in Non-Lense Images: {nan_non_lense}\")"
   ]
  },
  {
   "cell_type": "code",
   "execution_count": 12,
   "metadata": {},
   "outputs": [
    {
     "name": "stdout",
     "output_type": "stream",
     "text": [
      "Average Nan Pixels in Lense Images: 216.13071895424838\n",
      "Average Nan Pixels in Non-Lense Images: 139.74603174603175\n"
     ]
    }
   ],
   "source": [
    "# Significant number of NaN pixels\n",
    "# Calculating average number of NaN pixels per image\n",
    "print(f\"Average Nan Pixels in Lense Images: {nan_lense/153}\")\n",
    "print(f\"Average Nan Pixels in Non-Lense Images: {nan_non_lense/63}\")"
   ]
  },
  {
   "cell_type": "code",
   "execution_count": 13,
   "metadata": {},
   "outputs": [
    {
     "name": "stdout",
     "output_type": "stream",
     "text": [
      "Proportion of Nan Pixels in Lense Images: 0.001937419044733124\n",
      "Proportion of Nan Pixels in Non-Lense Images: 0.0012526984809963762\n"
     ]
    }
   ],
   "source": [
    "# Calculating proportion of NaN pixels in a single image\n",
    "print(f\"Proportion of Nan Pixels in Lense Images: {(nan_lense/153)/(334*334)}\")\n",
    "print(f\"Proportion of Nan Pixels in Non-Lense Images: {(nan_non_lense/63)/(334*334)}\")"
   ]
  },
  {
   "cell_type": "code",
   "execution_count": 14,
   "metadata": {},
   "outputs": [],
   "source": [
    "# Thus we can simply we replace NaN pixels by 0 due to very less proportion of NaN pixels"
   ]
  },
  {
   "cell_type": "code",
   "execution_count": 15,
   "metadata": {},
   "outputs": [],
   "source": [
    "# Defining the data augmentations used in SimCLR \n",
    "class SimCLRTransform:\n",
    "    def __init__(self, size=224):\n",
    "        self.size = size\n",
    "\n",
    "        self.color_jitter = T.ColorJitter(0.8, 0.8, 0.8, 0.2)\n",
    "\n",
    "        self.augmentation = T.Compose([\n",
    "            T.RandomResizedCrop(size=self.size),\n",
    "            T.RandomHorizontalFlip(),\n",
    "            T.RandomApply([self.color_jitter], p=0.8),\n",
    "            T.RandomApply([T.GaussianBlur(kernel_size=self.size // 20 * 2 + 1, sigma=(0.1, 2.0))], p=0.5)\n",
    "        ])\n",
    "\n",
    "    def __call__(self, x):\n",
    "        # Apply data augmentation transformations\n",
    "        x1 = self.augmentation(x)\n",
    "        x2 = self.augmentation(x)\n",
    "\n",
    "        return {'X1': x1, 'X2': x2}"
   ]
  },
  {
   "cell_type": "code",
   "execution_count": 16,
   "metadata": {},
   "outputs": [],
   "source": [
    "transform = SimCLRTransform(size=224)"
   ]
  },
  {
   "cell_type": "code",
   "execution_count": 17,
   "metadata": {},
   "outputs": [],
   "source": [
    "# Defining the Dataset Class\n",
    "class Data(Dataset):\n",
    "    def __init__(self, path, transform=None):\n",
    "        self.path = path\n",
    "        self.transform = transform\n",
    "        self.files = sorted(os.listdir(self.path))\n",
    "    \n",
    "    def __len__(self):\n",
    "        return len(self.files)\n",
    "    \n",
    "    def __getitem__(self, index):\n",
    "        file_path = self.path+\"/\"+self.files[index]\n",
    "        arr = np.load(file_path)\n",
    "        arr[np.isnan(arr)] = 0 # Replacing NaN values by 0\n",
    "        arr = torch.tensor(np.float32(arr)).unsqueeze(dim=0)\n",
    "        image_pair = transform(arr)\n",
    "        if self.files[index][:2] == \"nl\":\n",
    "            lbl = torch.tensor(1)\n",
    "        else:\n",
    "            lbl = torch.tensor(0)\n",
    "        \n",
    "        return {'X_orig': arr, 'X1': image_pair['X1'], 'X2': image_pair['X2'], 'y': lbl}"
   ]
  },
  {
   "cell_type": "code",
   "execution_count": 18,
   "metadata": {},
   "outputs": [],
   "source": [
    "# Creating dataset object\n",
    "dataset = Data(path=data_path)"
   ]
  },
  {
   "cell_type": "code",
   "execution_count": 19,
   "metadata": {},
   "outputs": [
    {
     "data": {
      "text/plain": [
       "215"
      ]
     },
     "execution_count": 19,
     "metadata": {},
     "output_type": "execute_result"
    }
   ],
   "source": [
    "# Confirming length of dataset\n",
    "len(dataset)"
   ]
  },
  {
   "cell_type": "code",
   "execution_count": 20,
   "metadata": {},
   "outputs": [
    {
     "data": {
      "text/plain": [
       "{'X_orig': tensor([[[0.0857, 0.0932, 0.0847,  ..., 0.0720, 0.0760, 0.0779],\n",
       "          [0.0777, 0.0838, 0.0888,  ..., 0.0814, 0.0833, 0.0815],\n",
       "          [0.0870, 0.0842, 0.0821,  ..., 0.0724, 0.0823, 0.0800],\n",
       "          ...,\n",
       "          [0.0820, 0.0859, 0.0837,  ..., 0.0826, 0.0789, 0.0865],\n",
       "          [0.0770, 0.0851, 0.0841,  ..., 0.0901, 0.0843, 0.0793],\n",
       "          [0.0810, 0.0730, 0.0814,  ..., 0.0728, 0.0872, 0.0880]]]),\n",
       " 'X1': tensor([[[0.0533, 0.0683, 0.0731,  ..., 0.1790, 0.1646, 0.1773],\n",
       "          [0.0677, 0.0684, 0.0632,  ..., 0.1822, 0.1765, 0.1630],\n",
       "          [0.0589, 0.0542, 0.0677,  ..., 0.1774, 0.1501, 0.1488],\n",
       "          ...,\n",
       "          [0.0613, 0.0598, 0.0619,  ..., 0.0566, 0.0635, 0.0595],\n",
       "          [0.0561, 0.0575, 0.0757,  ..., 0.0616, 0.0739, 0.0573],\n",
       "          [0.0650, 0.0498, 0.0631,  ..., 0.0476, 0.0666, 0.0565]]]),\n",
       " 'X2': tensor([[[0.0802, 0.0802, 0.0799,  ..., 0.0808, 0.0803, 0.0801],\n",
       "          [0.0801, 0.0801, 0.0798,  ..., 0.0807, 0.0802, 0.0800],\n",
       "          [0.0798, 0.0797, 0.0796,  ..., 0.0806, 0.0802, 0.0800],\n",
       "          ...,\n",
       "          [0.0835, 0.0835, 0.0835,  ..., 0.0809, 0.0808, 0.0808],\n",
       "          [0.0834, 0.0834, 0.0835,  ..., 0.0809, 0.0808, 0.0807],\n",
       "          [0.0834, 0.0834, 0.0835,  ..., 0.0809, 0.0807, 0.0807]]]),\n",
       " 'y': tensor(0)}"
      ]
     },
     "execution_count": 20,
     "metadata": {},
     "output_type": "execute_result"
    }
   ],
   "source": [
    "# Sanity Check\n",
    "dataset[0]"
   ]
  },
  {
   "cell_type": "code",
   "execution_count": 21,
   "metadata": {},
   "outputs": [],
   "source": [
    "# Creating the list of target labels\n",
    "labels = []\n",
    "lis = sorted(os.listdir(data_path))\n",
    "for file in lis:\n",
    "    if file[:2] == \"nl\":\n",
    "        labels.append(1)\n",
    "    else:\n",
    "        labels.append(0)"
   ]
  },
  {
   "cell_type": "code",
   "execution_count": 22,
   "metadata": {},
   "outputs": [],
   "source": [
    "# Selecting indexes for a stratified dataset split: 90% Training and 10% Validation\n",
    "train_idxs, valid_idxs = train_test_split(np.arange(len(labels)), train_size = 0.9, stratify=labels, random_state = 42)"
   ]
  },
  {
   "cell_type": "code",
   "execution_count": 23,
   "metadata": {},
   "outputs": [],
   "source": [
    "# Creating training and validation dataset objects by taking subsets of the data based on indexes\n",
    "train_dataset = Subset(dataset, train_idxs)\n",
    "valid_dataset = Subset(dataset, valid_idxs)"
   ]
  },
  {
   "cell_type": "code",
   "execution_count": 24,
   "metadata": {},
   "outputs": [
    {
     "data": {
      "text/plain": [
       "'cuda'"
      ]
     },
     "execution_count": 24,
     "metadata": {},
     "output_type": "execute_result"
    }
   ],
   "source": [
    "# Checking the device for training and inference\n",
    "device = \"cuda\" if torch.cuda.is_available() else \"cpu\"\n",
    "device"
   ]
  },
  {
   "cell_type": "code",
   "execution_count": 25,
   "metadata": {},
   "outputs": [
    {
     "data": {
      "text/plain": [
       "319"
      ]
     },
     "execution_count": 25,
     "metadata": {},
     "output_type": "execute_result"
    }
   ],
   "source": [
    "# Clear CUDA cache\n",
    "torch.cuda.empty_cache()\n",
    "\n",
    "# Perform garbage collection\n",
    "gc.collect()"
   ]
  },
  {
   "cell_type": "code",
   "execution_count": 26,
   "metadata": {},
   "outputs": [],
   "source": [
    "# Defining the SimCLR Model Class: Backbone + Embedding Projection Head\n",
    "class SimCLR(nn.Module):\n",
    "    def __init__(self, backbone):\n",
    "        super().__init__()\n",
    "        self.backbone = backbone\n",
    "        self.projection_head = SimCLRProjectionHead(512,512,128)\n",
    "\n",
    "    def forward(self, x):\n",
    "        x = self.backbone(x).flatten(start_dim=1)\n",
    "        z = self.projection_head(x)\n",
    "        return z"
   ]
  },
  {
   "cell_type": "code",
   "execution_count": 35,
   "metadata": {},
   "outputs": [],
   "source": [
    "# Importing the model from timm and creating the SimCLR Model object\n",
    "model = timm.create_model('resnet18.tv_in1k', in_chans=1, pretrained=True)\n",
    "backbone = nn.Sequential(*list(model.children())[:-1])\n",
    "model = SimCLR(backbone)"
   ]
  },
  {
   "cell_type": "code",
   "execution_count": 36,
   "metadata": {},
   "outputs": [
    {
     "data": {
      "text/plain": [
       "torch.Size([16, 128])"
      ]
     },
     "execution_count": 36,
     "metadata": {},
     "output_type": "execute_result"
    }
   ],
   "source": [
    "# Sanity check\n",
    "model(torch.randn(16,1,224,224)).shape"
   ]
  },
  {
   "cell_type": "code",
   "execution_count": 37,
   "metadata": {},
   "outputs": [],
   "source": [
    "# SimCLR benefits from large batch size to generate better embeddings. Change the variable below in case of a larger variable\n",
    "training_batch_size = 128"
   ]
  },
  {
   "cell_type": "code",
   "execution_count": 38,
   "metadata": {},
   "outputs": [],
   "source": [
    "# Definining dataloaders\n",
    "train_loader = DataLoader(train_dataset, batch_size=training_batch_size, shuffle=True)\n",
    "valid_loader = DataLoader(valid_dataset, batch_size=16, shuffle=False)"
   ]
  },
  {
   "cell_type": "code",
   "execution_count": 39,
   "metadata": {},
   "outputs": [],
   "source": [
    "# Note: Even though original SimCLR pipeline uses Cosine Annealing as the scheduler, in my experimentation ReduceLROnPlateau reported better results on the validation dataset\n",
    "# Hence, I have used ReduceLROnPlateau."
   ]
  },
  {
   "cell_type": "code",
   "execution_count": 40,
   "metadata": {},
   "outputs": [],
   "source": [
    "# Note: Even though original SimCLR pipeline uses Cosine Annealing as the scheduler, in my experimentation ReduceLROnPlateau reported better results on the validation dataset\n",
    "# Hence, I have used ReduceLROnPlateau"
   ]
  },
  {
   "cell_type": "code",
   "execution_count": 41,
   "metadata": {},
   "outputs": [],
   "source": [
    "# Training configuration\n",
    "model.to(device)\n",
    "epochs = 15\n",
    "loss_fn = NTXentLoss()\n",
    "base_optimizer = torch.optim.AdamW(model.parameters(), lr = 1e-3)\n",
    "optimizer = LARS(optimizer=base_optimizer, eps=1e-8, trust_coef=0.001)\n",
    "scheduler = torch.optim.lr_scheduler.ReduceLROnPlateau(optimizer, mode='min', factor=0.1, patience=2, threshold=0.01, min_lr=1e-6)\n",
    "best_epoch = 0\n",
    "best_loss = 1e+9\n",
    "stop_thresh = 4\n",
    "loss_lis = []"
   ]
  },
  {
   "cell_type": "code",
   "execution_count": 42,
   "metadata": {},
   "outputs": [
    {
     "data": {
      "application/vnd.jupyter.widget-view+json": {
       "model_id": "3ef71a0243144aa4938326abf5084e0f",
       "version_major": 2,
       "version_minor": 0
      },
      "text/plain": [
       "  0%|          | 0/15 [00:00<?, ?it/s]"
      ]
     },
     "metadata": {},
     "output_type": "display_data"
    },
    {
     "name": "stdout",
     "output_type": "stream",
     "text": [
      "5.115152835845947\n",
      "Save model at 0\n",
      "4.996930122375488\n",
      "Save model at 1\n",
      "4.9510979652404785\n",
      "Save model at 2\n",
      "5.020533323287964\n",
      "4.9835591316223145\n",
      "4.811880588531494\n",
      "Save model at 5\n",
      "4.828495264053345\n",
      "4.926481246948242\n",
      "4.825707674026489\n",
      "4.824260950088501\n",
      "4.847047805786133\n",
      "Early Stopping!\n"
     ]
    }
   ],
   "source": [
    "# Training Loop\n",
    "# Skip this cell if you want to perform inference only\n",
    "for epoch in tqdm(range(epochs)):\n",
    "    ntxent_loss = 0\n",
    "    model.train()\n",
    "    for batch in train_loader:\n",
    "        for k,v in batch.items():\n",
    "            batch[k] = v.to(device)\n",
    "        optimizer.zero_grad()\n",
    "        z1 = model(batch['X1'])\n",
    "        z2 = model(batch['X2'])\n",
    "        loss = loss_fn(z1, z2)\n",
    "        loss.backward()\n",
    "        optimizer.step()\n",
    "        ntxent_loss += loss.item()\n",
    "    ntxent_loss /= len(train_loader)\n",
    "    print(ntxent_loss)\n",
    "    loss_lis.append(ntxent_loss)\n",
    "    scheduler.step(ntxent_loss)\n",
    "\n",
    "    if ntxent_loss < best_loss:\n",
    "        best_epoch = epoch\n",
    "        best_loss = ntxent_loss\n",
    "        print(f\"Save model at {best_epoch}\")\n",
    "        torch.save(model.state_dict(),\"task2_models/best_encoder.pth\")\n",
    "    \n",
    "    # Early Stopping\n",
    "    if epoch - best_epoch > stop_thresh:\n",
    "        print(\"Early Stopping!\")\n",
    "        break"
   ]
  },
  {
   "cell_type": "code",
   "execution_count": 54,
   "metadata": {},
   "outputs": [],
   "source": [
    "# Loading the best model and creating the 128 dimensional embeddings for both the training and validation dataset\n",
    "model.load_state_dict(torch.load(\"task2_models/best_encoder.pth\"))\n",
    "model.to(device)\n",
    "train_enc = []\n",
    "train_labels = []\n",
    "valid_enc = []\n",
    "valid_labels = []\n",
    "model.eval()\n",
    "for batch in train_loader:\n",
    "    for k,v in batch.items():\n",
    "        batch[k] = v.to(device)\n",
    "    with torch.no_grad():\n",
    "        encs = model(batch['X_orig'])\n",
    "        labels = batch['y']\n",
    "    encs = encs.cpu().tolist()\n",
    "    labels = labels.cpu().tolist()\n",
    "    for enc in encs:\n",
    "        train_enc.append(enc)\n",
    "    for label in labels:\n",
    "        train_labels.append(label)\n",
    "\n",
    "for batch in valid_loader:\n",
    "    for k,v in batch.items():\n",
    "        batch[k] = v.to(device)\n",
    "    with torch.no_grad():\n",
    "        encs = model(batch['X_orig'])\n",
    "        labels = batch['y']\n",
    "    encs = encs.cpu().tolist()\n",
    "    labels = labels.cpu().tolist()\n",
    "    for enc in encs:\n",
    "        valid_enc.append(enc)\n",
    "    for label in labels:\n",
    "        valid_labels.append(label)\n",
    "\n",
    "\n",
    "# Creating numpy arrays for the embeddings and labels of both the training and validation dataset\n",
    "train_enc = np.array(train_enc)\n",
    "train_labels = np.array(train_labels)\n",
    "valid_enc = np.array(valid_enc)\n",
    "valid_labels = np.array(valid_labels)"
   ]
  },
  {
   "cell_type": "code",
   "execution_count": 55,
   "metadata": {},
   "outputs": [
    {
     "data": {
      "text/html": [
       "<style>#sk-container-id-2 {\n",
       "  /* Definition of color scheme common for light and dark mode */\n",
       "  --sklearn-color-text: black;\n",
       "  --sklearn-color-line: gray;\n",
       "  /* Definition of color scheme for unfitted estimators */\n",
       "  --sklearn-color-unfitted-level-0: #fff5e6;\n",
       "  --sklearn-color-unfitted-level-1: #f6e4d2;\n",
       "  --sklearn-color-unfitted-level-2: #ffe0b3;\n",
       "  --sklearn-color-unfitted-level-3: chocolate;\n",
       "  /* Definition of color scheme for fitted estimators */\n",
       "  --sklearn-color-fitted-level-0: #f0f8ff;\n",
       "  --sklearn-color-fitted-level-1: #d4ebff;\n",
       "  --sklearn-color-fitted-level-2: #b3dbfd;\n",
       "  --sklearn-color-fitted-level-3: cornflowerblue;\n",
       "\n",
       "  /* Specific color for light theme */\n",
       "  --sklearn-color-text-on-default-background: var(--sg-text-color, var(--theme-code-foreground, var(--jp-content-font-color1, black)));\n",
       "  --sklearn-color-background: var(--sg-background-color, var(--theme-background, var(--jp-layout-color0, white)));\n",
       "  --sklearn-color-border-box: var(--sg-text-color, var(--theme-code-foreground, var(--jp-content-font-color1, black)));\n",
       "  --sklearn-color-icon: #696969;\n",
       "\n",
       "  @media (prefers-color-scheme: dark) {\n",
       "    /* Redefinition of color scheme for dark theme */\n",
       "    --sklearn-color-text-on-default-background: var(--sg-text-color, var(--theme-code-foreground, var(--jp-content-font-color1, white)));\n",
       "    --sklearn-color-background: var(--sg-background-color, var(--theme-background, var(--jp-layout-color0, #111)));\n",
       "    --sklearn-color-border-box: var(--sg-text-color, var(--theme-code-foreground, var(--jp-content-font-color1, white)));\n",
       "    --sklearn-color-icon: #878787;\n",
       "  }\n",
       "}\n",
       "\n",
       "#sk-container-id-2 {\n",
       "  color: var(--sklearn-color-text);\n",
       "}\n",
       "\n",
       "#sk-container-id-2 pre {\n",
       "  padding: 0;\n",
       "}\n",
       "\n",
       "#sk-container-id-2 input.sk-hidden--visually {\n",
       "  border: 0;\n",
       "  clip: rect(1px 1px 1px 1px);\n",
       "  clip: rect(1px, 1px, 1px, 1px);\n",
       "  height: 1px;\n",
       "  margin: -1px;\n",
       "  overflow: hidden;\n",
       "  padding: 0;\n",
       "  position: absolute;\n",
       "  width: 1px;\n",
       "}\n",
       "\n",
       "#sk-container-id-2 div.sk-dashed-wrapped {\n",
       "  border: 1px dashed var(--sklearn-color-line);\n",
       "  margin: 0 0.4em 0.5em 0.4em;\n",
       "  box-sizing: border-box;\n",
       "  padding-bottom: 0.4em;\n",
       "  background-color: var(--sklearn-color-background);\n",
       "}\n",
       "\n",
       "#sk-container-id-2 div.sk-container {\n",
       "  /* jupyter's `normalize.less` sets `[hidden] { display: none; }`\n",
       "     but bootstrap.min.css set `[hidden] { display: none !important; }`\n",
       "     so we also need the `!important` here to be able to override the\n",
       "     default hidden behavior on the sphinx rendered scikit-learn.org.\n",
       "     See: https://github.com/scikit-learn/scikit-learn/issues/21755 */\n",
       "  display: inline-block !important;\n",
       "  position: relative;\n",
       "}\n",
       "\n",
       "#sk-container-id-2 div.sk-text-repr-fallback {\n",
       "  display: none;\n",
       "}\n",
       "\n",
       "div.sk-parallel-item,\n",
       "div.sk-serial,\n",
       "div.sk-item {\n",
       "  /* draw centered vertical line to link estimators */\n",
       "  background-image: linear-gradient(var(--sklearn-color-text-on-default-background), var(--sklearn-color-text-on-default-background));\n",
       "  background-size: 2px 100%;\n",
       "  background-repeat: no-repeat;\n",
       "  background-position: center center;\n",
       "}\n",
       "\n",
       "/* Parallel-specific style estimator block */\n",
       "\n",
       "#sk-container-id-2 div.sk-parallel-item::after {\n",
       "  content: \"\";\n",
       "  width: 100%;\n",
       "  border-bottom: 2px solid var(--sklearn-color-text-on-default-background);\n",
       "  flex-grow: 1;\n",
       "}\n",
       "\n",
       "#sk-container-id-2 div.sk-parallel {\n",
       "  display: flex;\n",
       "  align-items: stretch;\n",
       "  justify-content: center;\n",
       "  background-color: var(--sklearn-color-background);\n",
       "  position: relative;\n",
       "}\n",
       "\n",
       "#sk-container-id-2 div.sk-parallel-item {\n",
       "  display: flex;\n",
       "  flex-direction: column;\n",
       "}\n",
       "\n",
       "#sk-container-id-2 div.sk-parallel-item:first-child::after {\n",
       "  align-self: flex-end;\n",
       "  width: 50%;\n",
       "}\n",
       "\n",
       "#sk-container-id-2 div.sk-parallel-item:last-child::after {\n",
       "  align-self: flex-start;\n",
       "  width: 50%;\n",
       "}\n",
       "\n",
       "#sk-container-id-2 div.sk-parallel-item:only-child::after {\n",
       "  width: 0;\n",
       "}\n",
       "\n",
       "/* Serial-specific style estimator block */\n",
       "\n",
       "#sk-container-id-2 div.sk-serial {\n",
       "  display: flex;\n",
       "  flex-direction: column;\n",
       "  align-items: center;\n",
       "  background-color: var(--sklearn-color-background);\n",
       "  padding-right: 1em;\n",
       "  padding-left: 1em;\n",
       "}\n",
       "\n",
       "\n",
       "/* Toggleable style: style used for estimator/Pipeline/ColumnTransformer box that is\n",
       "clickable and can be expanded/collapsed.\n",
       "- Pipeline and ColumnTransformer use this feature and define the default style\n",
       "- Estimators will overwrite some part of the style using the `sk-estimator` class\n",
       "*/\n",
       "\n",
       "/* Pipeline and ColumnTransformer style (default) */\n",
       "\n",
       "#sk-container-id-2 div.sk-toggleable {\n",
       "  /* Default theme specific background. It is overwritten whether we have a\n",
       "  specific estimator or a Pipeline/ColumnTransformer */\n",
       "  background-color: var(--sklearn-color-background);\n",
       "}\n",
       "\n",
       "/* Toggleable label */\n",
       "#sk-container-id-2 label.sk-toggleable__label {\n",
       "  cursor: pointer;\n",
       "  display: block;\n",
       "  width: 100%;\n",
       "  margin-bottom: 0;\n",
       "  padding: 0.5em;\n",
       "  box-sizing: border-box;\n",
       "  text-align: center;\n",
       "}\n",
       "\n",
       "#sk-container-id-2 label.sk-toggleable__label-arrow:before {\n",
       "  /* Arrow on the left of the label */\n",
       "  content: \"▸\";\n",
       "  float: left;\n",
       "  margin-right: 0.25em;\n",
       "  color: var(--sklearn-color-icon);\n",
       "}\n",
       "\n",
       "#sk-container-id-2 label.sk-toggleable__label-arrow:hover:before {\n",
       "  color: var(--sklearn-color-text);\n",
       "}\n",
       "\n",
       "/* Toggleable content - dropdown */\n",
       "\n",
       "#sk-container-id-2 div.sk-toggleable__content {\n",
       "  max-height: 0;\n",
       "  max-width: 0;\n",
       "  overflow: hidden;\n",
       "  text-align: left;\n",
       "  /* unfitted */\n",
       "  background-color: var(--sklearn-color-unfitted-level-0);\n",
       "}\n",
       "\n",
       "#sk-container-id-2 div.sk-toggleable__content.fitted {\n",
       "  /* fitted */\n",
       "  background-color: var(--sklearn-color-fitted-level-0);\n",
       "}\n",
       "\n",
       "#sk-container-id-2 div.sk-toggleable__content pre {\n",
       "  margin: 0.2em;\n",
       "  border-radius: 0.25em;\n",
       "  color: var(--sklearn-color-text);\n",
       "  /* unfitted */\n",
       "  background-color: var(--sklearn-color-unfitted-level-0);\n",
       "}\n",
       "\n",
       "#sk-container-id-2 div.sk-toggleable__content.fitted pre {\n",
       "  /* unfitted */\n",
       "  background-color: var(--sklearn-color-fitted-level-0);\n",
       "}\n",
       "\n",
       "#sk-container-id-2 input.sk-toggleable__control:checked~div.sk-toggleable__content {\n",
       "  /* Expand drop-down */\n",
       "  max-height: 200px;\n",
       "  max-width: 100%;\n",
       "  overflow: auto;\n",
       "}\n",
       "\n",
       "#sk-container-id-2 input.sk-toggleable__control:checked~label.sk-toggleable__label-arrow:before {\n",
       "  content: \"▾\";\n",
       "}\n",
       "\n",
       "/* Pipeline/ColumnTransformer-specific style */\n",
       "\n",
       "#sk-container-id-2 div.sk-label input.sk-toggleable__control:checked~label.sk-toggleable__label {\n",
       "  color: var(--sklearn-color-text);\n",
       "  background-color: var(--sklearn-color-unfitted-level-2);\n",
       "}\n",
       "\n",
       "#sk-container-id-2 div.sk-label.fitted input.sk-toggleable__control:checked~label.sk-toggleable__label {\n",
       "  background-color: var(--sklearn-color-fitted-level-2);\n",
       "}\n",
       "\n",
       "/* Estimator-specific style */\n",
       "\n",
       "/* Colorize estimator box */\n",
       "#sk-container-id-2 div.sk-estimator input.sk-toggleable__control:checked~label.sk-toggleable__label {\n",
       "  /* unfitted */\n",
       "  background-color: var(--sklearn-color-unfitted-level-2);\n",
       "}\n",
       "\n",
       "#sk-container-id-2 div.sk-estimator.fitted input.sk-toggleable__control:checked~label.sk-toggleable__label {\n",
       "  /* fitted */\n",
       "  background-color: var(--sklearn-color-fitted-level-2);\n",
       "}\n",
       "\n",
       "#sk-container-id-2 div.sk-label label.sk-toggleable__label,\n",
       "#sk-container-id-2 div.sk-label label {\n",
       "  /* The background is the default theme color */\n",
       "  color: var(--sklearn-color-text-on-default-background);\n",
       "}\n",
       "\n",
       "/* On hover, darken the color of the background */\n",
       "#sk-container-id-2 div.sk-label:hover label.sk-toggleable__label {\n",
       "  color: var(--sklearn-color-text);\n",
       "  background-color: var(--sklearn-color-unfitted-level-2);\n",
       "}\n",
       "\n",
       "/* Label box, darken color on hover, fitted */\n",
       "#sk-container-id-2 div.sk-label.fitted:hover label.sk-toggleable__label.fitted {\n",
       "  color: var(--sklearn-color-text);\n",
       "  background-color: var(--sklearn-color-fitted-level-2);\n",
       "}\n",
       "\n",
       "/* Estimator label */\n",
       "\n",
       "#sk-container-id-2 div.sk-label label {\n",
       "  font-family: monospace;\n",
       "  font-weight: bold;\n",
       "  display: inline-block;\n",
       "  line-height: 1.2em;\n",
       "}\n",
       "\n",
       "#sk-container-id-2 div.sk-label-container {\n",
       "  text-align: center;\n",
       "}\n",
       "\n",
       "/* Estimator-specific */\n",
       "#sk-container-id-2 div.sk-estimator {\n",
       "  font-family: monospace;\n",
       "  border: 1px dotted var(--sklearn-color-border-box);\n",
       "  border-radius: 0.25em;\n",
       "  box-sizing: border-box;\n",
       "  margin-bottom: 0.5em;\n",
       "  /* unfitted */\n",
       "  background-color: var(--sklearn-color-unfitted-level-0);\n",
       "}\n",
       "\n",
       "#sk-container-id-2 div.sk-estimator.fitted {\n",
       "  /* fitted */\n",
       "  background-color: var(--sklearn-color-fitted-level-0);\n",
       "}\n",
       "\n",
       "/* on hover */\n",
       "#sk-container-id-2 div.sk-estimator:hover {\n",
       "  /* unfitted */\n",
       "  background-color: var(--sklearn-color-unfitted-level-2);\n",
       "}\n",
       "\n",
       "#sk-container-id-2 div.sk-estimator.fitted:hover {\n",
       "  /* fitted */\n",
       "  background-color: var(--sklearn-color-fitted-level-2);\n",
       "}\n",
       "\n",
       "/* Specification for estimator info (e.g. \"i\" and \"?\") */\n",
       "\n",
       "/* Common style for \"i\" and \"?\" */\n",
       "\n",
       ".sk-estimator-doc-link,\n",
       "a:link.sk-estimator-doc-link,\n",
       "a:visited.sk-estimator-doc-link {\n",
       "  float: right;\n",
       "  font-size: smaller;\n",
       "  line-height: 1em;\n",
       "  font-family: monospace;\n",
       "  background-color: var(--sklearn-color-background);\n",
       "  border-radius: 1em;\n",
       "  height: 1em;\n",
       "  width: 1em;\n",
       "  text-decoration: none !important;\n",
       "  margin-left: 1ex;\n",
       "  /* unfitted */\n",
       "  border: var(--sklearn-color-unfitted-level-1) 1pt solid;\n",
       "  color: var(--sklearn-color-unfitted-level-1);\n",
       "}\n",
       "\n",
       ".sk-estimator-doc-link.fitted,\n",
       "a:link.sk-estimator-doc-link.fitted,\n",
       "a:visited.sk-estimator-doc-link.fitted {\n",
       "  /* fitted */\n",
       "  border: var(--sklearn-color-fitted-level-1) 1pt solid;\n",
       "  color: var(--sklearn-color-fitted-level-1);\n",
       "}\n",
       "\n",
       "/* On hover */\n",
       "div.sk-estimator:hover .sk-estimator-doc-link:hover,\n",
       ".sk-estimator-doc-link:hover,\n",
       "div.sk-label-container:hover .sk-estimator-doc-link:hover,\n",
       ".sk-estimator-doc-link:hover {\n",
       "  /* unfitted */\n",
       "  background-color: var(--sklearn-color-unfitted-level-3);\n",
       "  color: var(--sklearn-color-background);\n",
       "  text-decoration: none;\n",
       "}\n",
       "\n",
       "div.sk-estimator.fitted:hover .sk-estimator-doc-link.fitted:hover,\n",
       ".sk-estimator-doc-link.fitted:hover,\n",
       "div.sk-label-container:hover .sk-estimator-doc-link.fitted:hover,\n",
       ".sk-estimator-doc-link.fitted:hover {\n",
       "  /* fitted */\n",
       "  background-color: var(--sklearn-color-fitted-level-3);\n",
       "  color: var(--sklearn-color-background);\n",
       "  text-decoration: none;\n",
       "}\n",
       "\n",
       "/* Span, style for the box shown on hovering the info icon */\n",
       ".sk-estimator-doc-link span {\n",
       "  display: none;\n",
       "  z-index: 9999;\n",
       "  position: relative;\n",
       "  font-weight: normal;\n",
       "  right: .2ex;\n",
       "  padding: .5ex;\n",
       "  margin: .5ex;\n",
       "  width: min-content;\n",
       "  min-width: 20ex;\n",
       "  max-width: 50ex;\n",
       "  color: var(--sklearn-color-text);\n",
       "  box-shadow: 2pt 2pt 4pt #999;\n",
       "  /* unfitted */\n",
       "  background: var(--sklearn-color-unfitted-level-0);\n",
       "  border: .5pt solid var(--sklearn-color-unfitted-level-3);\n",
       "}\n",
       "\n",
       ".sk-estimator-doc-link.fitted span {\n",
       "  /* fitted */\n",
       "  background: var(--sklearn-color-fitted-level-0);\n",
       "  border: var(--sklearn-color-fitted-level-3);\n",
       "}\n",
       "\n",
       ".sk-estimator-doc-link:hover span {\n",
       "  display: block;\n",
       "}\n",
       "\n",
       "/* \"?\"-specific style due to the `<a>` HTML tag */\n",
       "\n",
       "#sk-container-id-2 a.estimator_doc_link {\n",
       "  float: right;\n",
       "  font-size: 1rem;\n",
       "  line-height: 1em;\n",
       "  font-family: monospace;\n",
       "  background-color: var(--sklearn-color-background);\n",
       "  border-radius: 1rem;\n",
       "  height: 1rem;\n",
       "  width: 1rem;\n",
       "  text-decoration: none;\n",
       "  /* unfitted */\n",
       "  color: var(--sklearn-color-unfitted-level-1);\n",
       "  border: var(--sklearn-color-unfitted-level-1) 1pt solid;\n",
       "}\n",
       "\n",
       "#sk-container-id-2 a.estimator_doc_link.fitted {\n",
       "  /* fitted */\n",
       "  border: var(--sklearn-color-fitted-level-1) 1pt solid;\n",
       "  color: var(--sklearn-color-fitted-level-1);\n",
       "}\n",
       "\n",
       "/* On hover */\n",
       "#sk-container-id-2 a.estimator_doc_link:hover {\n",
       "  /* unfitted */\n",
       "  background-color: var(--sklearn-color-unfitted-level-3);\n",
       "  color: var(--sklearn-color-background);\n",
       "  text-decoration: none;\n",
       "}\n",
       "\n",
       "#sk-container-id-2 a.estimator_doc_link.fitted:hover {\n",
       "  /* fitted */\n",
       "  background-color: var(--sklearn-color-fitted-level-3);\n",
       "}\n",
       "</style><div id=\"sk-container-id-2\" class=\"sk-top-container\"><div class=\"sk-text-repr-fallback\"><pre>LogisticRegression()</pre><b>In a Jupyter environment, please rerun this cell to show the HTML representation or trust the notebook. <br />On GitHub, the HTML representation is unable to render, please try loading this page with nbviewer.org.</b></div><div class=\"sk-container\" hidden><div class=\"sk-item\"><div class=\"sk-estimator fitted sk-toggleable\"><input class=\"sk-toggleable__control sk-hidden--visually\" id=\"sk-estimator-id-2\" type=\"checkbox\" checked><label for=\"sk-estimator-id-2\" class=\"sk-toggleable__label fitted sk-toggleable__label-arrow fitted\">&nbsp;&nbsp;LogisticRegression<a class=\"sk-estimator-doc-link fitted\" rel=\"noreferrer\" target=\"_blank\" href=\"https://scikit-learn.org/1.4/modules/generated/sklearn.linear_model.LogisticRegression.html\">?<span>Documentation for LogisticRegression</span></a><span class=\"sk-estimator-doc-link fitted\">i<span>Fitted</span></span></label><div class=\"sk-toggleable__content fitted\"><pre>LogisticRegression()</pre></div> </div></div></div></div>"
      ],
      "text/plain": [
       "LogisticRegression()"
      ]
     },
     "execution_count": 55,
     "metadata": {},
     "output_type": "execute_result"
    }
   ],
   "source": [
    "# Skip this cell if you want to perform inference only\n",
    "# Creating a Logisitic Regression model for classification based on the created SimCLR embeddings\n",
    "# The classifier is trained only on the training dataset\n",
    "classifier = LogisticRegression()\n",
    "classifier.fit(X=train_enc, y=train_labels)\n",
    "\n",
    "# Saving the logistic regression model\n",
    "with open('task2_models/classifier_logreg.pkl', 'wb') as f:\n",
    "    pickle.dump(classifier, f)"
   ]
  },
  {
   "cell_type": "code",
   "execution_count": 57,
   "metadata": {},
   "outputs": [],
   "source": [
    "# Loading the logistic regression model\n",
    "with open('task2_models/classifier_logreg.pkl', 'rb') as f:\n",
    "    classifier = pickle.load(f)"
   ]
  },
  {
   "cell_type": "code",
   "execution_count": 58,
   "metadata": {},
   "outputs": [],
   "source": [
    "# Calculatiing predictions on both the training and validation dataset\n",
    "preds_train = classifier.predict(X=train_enc)\n",
    "preds_valid = classifier.predict(X=valid_enc)"
   ]
  },
  {
   "cell_type": "code",
   "execution_count": 59,
   "metadata": {},
   "outputs": [
    {
     "name": "stdout",
     "output_type": "stream",
     "text": [
      "Training Dataset ROC-AUC Score: 0.720717234262126\n",
      "Validation Dataset ROC-AUC Score: 0.6041666666666666\n"
     ]
    }
   ],
   "source": [
    "# Calculating ROC-AUC Score on both the training and validation dataset\n",
    "metric_train = roc_auc_score(y_true=train_labels, y_score=preds_train)\n",
    "metric_valid = roc_auc_score(y_true=valid_labels, y_score=preds_valid)\n",
    "print(\"Training Dataset ROC-AUC Score:\", metric_train)\n",
    "print(\"Validation Dataset ROC-AUC Score:\", metric_valid)"
   ]
  },
  {
   "cell_type": "code",
   "execution_count": 60,
   "metadata": {},
   "outputs": [],
   "source": [
    "# Storing FPR, TPR, and ROC-AUC for each class for plotting ROC Curve for both the training and validation datasets\n",
    "fpr_train, tpr_train, _ = roc_curve(y_true=train_labels, y_score=preds_train)\n",
    "roc_auc_train = auc(fpr_train, tpr_train)\n",
    "fpr_valid, tpr_valid, _ = roc_curve(y_true=valid_labels, y_score=preds_valid)\n",
    "roc_auc_valid = auc(fpr_valid, tpr_valid)"
   ]
  },
  {
   "cell_type": "code",
   "execution_count": 61,
   "metadata": {},
   "outputs": [
    {
     "data": {
      "image/png": "[encoded data removed]",
      "text/plain": [
       "<Figure size 640x480 with 1 Axes>"
      ]
     },
     "metadata": {},
     "output_type": "display_data"
    }
   ],
   "source": [
    "# Plotting ROC curves for both the training and validation datasets\n",
    "plt.figure()\n",
    "lw = 2\n",
    "plt.plot(fpr_train, tpr_train, color='darkorange', lw=lw, label='ROC curve for Training Dataset (area = %0.2f)' % roc_auc_train)\n",
    "plt.plot(fpr_valid, tpr_valid, color='cornflowerblue', lw=lw, label='ROC curve for Validation Dataset (area = %0.2f)' % roc_auc_valid)\n",
    "plt.plot([0, 1], [0, 1], color='navy', lw=lw, linestyle='--')\n",
    "plt.xlim([0.0, 1.0])\n",
    "plt.ylim([0.0, 1.05])\n",
    "plt.xlabel('False Positive Rate')\n",
    "plt.ylabel('True Positive Rate')\n",
    "plt.title('Receiver Operating Characteristic (ROC) Curve')\n",
    "plt.legend(loc=\"lower right\")\n",
    "plt.show()"
   ]
  },
  {
   "cell_type": "code",
   "execution_count": null,
   "metadata": {},
   "outputs": [],
   "source": []
  }
 ],
 "metadata": {
  "kernelspec": {
   "display_name": "Python 3",
   "language": "python",
   "name": "python3"
  },
  "language_info": {
   "codemirror_mode": {
    "name": "ipython",
    "version": 3
   },
   "file_extension": ".py",
   "mimetype": "text/x-python",
   "name": "python",
   "nbconvert_exporter": "python",
   "pygments_lexer": "ipython3",
   "version": "3.10.12"
  }
 },
 "nbformat": 4,
 "nbformat_minor": 2
}
